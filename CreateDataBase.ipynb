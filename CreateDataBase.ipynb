{
 "cells": [
  {
   "cell_type": "code",
   "execution_count": 1,
   "id": "6fce446d-8e1d-4741-bc8f-9f25df47e94b",
   "metadata": {},
   "outputs": [],
   "source": [
    "import psycopg2\n",
    "from psycopg2.extensions import ISOLATION_LEVEL_AUTOCOMMIT"
   ]
  },
  {
   "cell_type": "code",
   "execution_count": 2,
   "id": "a1895382-2fa4-4c84-9dff-dde4b07dc9fd",
   "metadata": {},
   "outputs": [],
   "source": [
    "conn = psycopg2.connect(\n",
    "    dbname=\"postgres\",\n",
    "    user=\"postgres\",\n",
    "    password=\"zuzu\",  \n",
    "    host=\"localhost\",\n",
    "    port=\"5432\"\n",
    ")\n",
    "conn.set_isolation_level(ISOLATION_LEVEL_AUTOCOMMIT)"
   ]
  },
  {
   "cell_type": "code",
   "execution_count": 3,
   "id": "1393741d-8650-4543-b530-df5115569b0e",
   "metadata": {},
   "outputs": [],
   "source": [
    "cursor = conn.cursor()"
   ]
  },
  {
   "cell_type": "code",
   "execution_count": 4,
   "id": "16bb1fb8-2e3d-44f0-ae1b-6bf1c7da1e03",
   "metadata": {},
   "outputs": [
    {
     "name": "stdout",
     "output_type": "stream",
     "text": [
      "DataBase shiptracking already exsits\n"
     ]
    }
   ],
   "source": [
    "Database_name = \"shiptracking\"\n",
    "\n",
    "try:\n",
    "    cursor.execute(f\"CREATE DATABASE {Database_name};\")\n",
    "    print(f\"DataBase {Database_name} Created\")\n",
    "except psycopg2.errors.DuplicateDatabase:\n",
    "    print(f\"DataBase {Database_name} already exsits\")\n",
    "    \n",
    "conn.commit()\n",
    "cursor.close()\n",
    "conn.close()"
   ]
  },
  {
   "cell_type": "code",
   "execution_count": 5,
   "id": "13c68704-fc67-4e34-8f45-144c3126715a",
   "metadata": {},
   "outputs": [],
   "source": [
    "# Connect to the new database and create Tables if it does not exsists\n",
    "\n",
    "conn = psycopg2.connect(\n",
    "    dbname=Database_name,\n",
    "    user=\"postgres\",\n",
    "    password=\"zuzu\",  # <- Replace this\n",
    "    host=\"localhost\",\n",
    "    port=\"5432\"\n",
    ")"
   ]
  },
  {
   "cell_type": "code",
   "execution_count": 6,
   "id": "b397bf3f-b3bf-4899-a217-1f6e2a47c15f",
   "metadata": {},
   "outputs": [],
   "source": [
    "cursor = conn.cursor()"
   ]
  },
  {
   "cell_type": "code",
   "execution_count": 7,
   "id": "a5685d77-2d7d-4487-bba8-2e9d4081f665",
   "metadata": {},
   "outputs": [],
   "source": [
    "cursor.execute(\"\"\"\n",
    "CREATE TABLE IF NOT EXISTS SHIP_Logs (\n",
    "    id SERIAL PRIMARY KEY,\n",
    "    mmsi BIGINT NOT NULL,\n",
    "    timestamp TIMESTAMP NOT NULL, \n",
    "    payload TEXT NOT NULL,\n",
    "    latitude DOUBLE PRECISION,\n",
    "    longitude DOUBLE PRECISION\n",
    ");\n",
    "\"\"\")"
   ]
  },
  {
   "cell_type": "code",
   "execution_count": 8,
   "id": "56cbd902-a941-4287-aedc-4667d9a41b2d",
   "metadata": {},
   "outputs": [],
   "source": [
    "conn.commit()\n",
    "cursor.close()\n",
    "conn.close()"
   ]
  }
 ],
 "metadata": {
  "kernelspec": {
   "display_name": "Python 3 (ipykernel)",
   "language": "python",
   "name": "python3"
  },
  "language_info": {
   "codemirror_mode": {
    "name": "ipython",
    "version": 3
   },
   "file_extension": ".py",
   "mimetype": "text/x-python",
   "name": "python",
   "nbconvert_exporter": "python",
   "pygments_lexer": "ipython3",
   "version": "3.11.3"
  }
 },
 "nbformat": 4,
 "nbformat_minor": 5
}
